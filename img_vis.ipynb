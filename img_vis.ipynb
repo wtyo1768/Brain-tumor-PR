{
 "cells": [
  {
   "cell_type": "code",
   "execution_count": 5,
   "metadata": {},
   "outputs": [],
   "source": [
    "from loader import PR_Dataset\n",
    "import pandas as pd \n",
    "from cfg import *\n",
    "import cv2\n",
    "import matplotlib.pyplot as plt\n",
    "import numpy as np\n",
    "from loader import ImgPad\n",
    "from monai import transforms \n",
    "from loader import data_pipe\n",
    "import fast_glcm\n",
    "from skimage import data\n",
    "from skimage.feature import texture\n",
    "import glob\n",
    "from personal_cls import run"
   ]
  },
  {
   "cell_type": "code",
   "execution_count": 6,
   "metadata": {},
   "outputs": [],
   "source": [
    "\n",
    "def glcm_features(f):\n",
    "    img = cv2.imread(f, 0)\n",
    "    g = texture.greycomatrix(img, [1, 2,3 ,4, 5], [0, np.pi/2], levels=256, normed=True, symmetric=True)\n",
    "    features = []\n",
    "    for p in ['contrast', 'dissimilarity', 'homogeneity', 'energy', 'correlation', 'ASM']:\n",
    "        f = texture.greycoprops(g, p)\n",
    "        features.append(f)\n",
    "    return np.array(features).flatten()\n",
    "\n",
    "\n",
    "labels = [0, 1]\n",
    "dtype = ['T1', 'T1c', 'T2', 'Flair', 'Mixed']\n",
    "# dtype = ['T1c']\n",
    "\n",
    "X, y = [], []\n",
    "for label in labels:\n",
    "    pr_class = 'PR' if label else 'non_PR'\n",
    "    for f in glob.glob(f'{segmented_img_dir}/{pr_class}/T1c/*.jpg'):\n",
    "        mri_features = []\n",
    "        # for d in ['T1c']:\n",
    "        for d in ['T1c', 'T1', 'T2', 'Flair']:\n",
    "            textual_feature = glcm_features(f.replace('T1c', d))\n",
    "            mri_features.append(textual_feature)\n",
    "            \n",
    "        X.append(np.array(mri_features).flatten())\n",
    "        y.append(label)\n",
    "\n",
    "rawX, y = np.array(X), np.array(y)"
   ]
  },
  {
   "cell_type": "code",
   "execution_count": 7,
   "metadata": {},
   "outputs": [
    {
     "name": "stdout",
     "output_type": "stream",
     "text": [
      "(56, 240) (56,)\n",
      "After VT transform | dim 80\n",
      "After univariate selection | dim 16\n"
     ]
    },
    {
     "data": {
      "text/plain": [
       "(56, 16)"
      ]
     },
     "execution_count": 7,
     "metadata": {},
     "output_type": "execute_result"
    }
   ],
   "source": [
    "from comet_ml import Experiment\n",
    "from sklearn import preprocessing\n",
    "from sklearn.feature_selection import VarianceThreshold\n",
    "from sklearn.feature_selection import chi2\n",
    "from sklearn.feature_selection import SelectKBest\n",
    "from sklearn.feature_selection import SelectPercentile, chi2\n",
    "from sklearn.svm import SVC, NuSVC\n",
    "from sklearn.linear_model import LogisticRegression\n",
    "from sklearn.ensemble import GradientBoostingClassifier\n",
    "from sklearn.ensemble import RandomForestClassifier\n",
    "from sklearn.neighbors import KNeighborsClassifier\n",
    "\n",
    "\n",
    "print(rawX.shape, y.shape)\n",
    "X = pd.DataFrame(rawX)\n",
    "\n",
    "thr = .8\n",
    "X = VarianceThreshold(threshold=(thr * (1 - thr))).fit_transform(X)\n",
    "print('After VT transform | dim', X.shape[1])\n",
    "# X = SelectKBest(chi2, k=50).fit_transform(X, y)\n",
    "X = SelectPercentile(chi2, percentile=20).fit_transform(X, y)\n",
    "print('After univariate selection | dim', X.shape[1])\n",
    "\n",
    "# X = ( X-X.mean() )/  X.std()\n",
    "X.shape"
   ]
  },
  {
   "cell_type": "code",
   "execution_count": 8,
   "metadata": {},
   "outputs": [
    {
     "name": "stderr",
     "output_type": "stream",
     "text": [
      "COMET WARNING: As you are running in a Jupyter environment, you will need to call `experiment.end()` when finished to ensure all metrics and code are logged before exiting.\n",
      "COMET INFO: Experiment is live on comet.ml https://www.comet.ml/wtyo1768/pr-classifier/ece44ab7d3b345e484b320e0f6b5f5db\n",
      "\n"
     ]
    },
    {
     "name": "stdout",
     "output_type": "stream",
     "text": [
      "GradientBoostingClassifier\n",
      "accuracy |\t 1.0 0.7666666666666667\n",
      "precision |\t 1.0 0.65\n",
      "recall |\t 1.0 0.29999999999999993\n",
      "roc_auc |\t 1.0 0.8203703703703702\n"
     ]
    }
   ],
   "source": [
    "experiment = Experiment(\n",
    "    api_key=COMET_APT_KEY,\n",
    "    project_name=COMET_PROJECT_NAME,\n",
    "    workspace=COMET_WORK_SPACE,\n",
    "    # disabled=True,\n",
    ")\n",
    "\n",
    "class CLF(NuSVC):\n",
    "    def predict(self, X, **kwargs):\n",
    "        super(NuSVC).__init__(**kwargs)\n",
    "        threshold = .5\n",
    "        result = self.predict_proba(X, **kwargs)\n",
    "        return [1 if p>threshold else 0 for p in result[:,1]]\n",
    "\n",
    "# clf = NuSVC(class_weight='balanced', max_iter=-1, nu=.05, kernel='rbf')\n",
    "# clf = CLF(class_weight='balanced', max_iter=-1, nu=, probability=True)\n",
    "clf = GradientBoostingClassifier(n_estimators=100, learning_rate=1, max_depth=3, )\n",
    "# clf = KNeighborsClassifier(n_neighbors=5, leaf_size=30)\n",
    "# clf = RandomForestClassifier(max_depth=4, random_state=0, n_estimators=20)\n",
    "\n",
    "result = run(X, y, clf)\n",
    "met =  ['accuracy', 'precision', 'recall', 'roc_auc']\n",
    "metric = ['train_' + val for val in met] + ['test_' + val for val in met]\n",
    "\n",
    "total_result = {}\n",
    "for m in metric: total_result[m] = []\n",
    "\n",
    "for i in range(5):\n",
    "    result = run(X, y, clf)\n",
    "    for m in metric: total_result[m].append(result[m])\n",
    "\n",
    "print(clf.__class__.__name__)\n",
    "for m in met: \n",
    "    print(m ,'|\\t', np.mean(result[f'train_{m}']), np.mean(result[f'test_{m}']))\n",
    "# for m in result : print(m, '|',np.mean(result[m]))\n",
    "\n",
    "\n"
   ]
  },
  {
   "cell_type": "code",
   "execution_count": 9,
   "metadata": {},
   "outputs": [],
   "source": [
    "\n",
    "f = '/home/rockyo/Chemei-PR/data/segmented_img/non_PR/T2/19425238.jpg'\n",
    "# data, meta = LoadImage()(f)\n",
    "data_pipe = {   \n",
    "    # 'train': lambda stat:T.Compose(train_aug(stat)),\n",
    "    # 'eval' : lambda stat:T.Compose(test_aug(stat)),\n",
    "    'train' : transforms.Compose([\n",
    "        transforms.LoadImage(image_only=True, reader='pilreader'),\n",
    "        transforms.AddChannel(),\n",
    "        transforms.RepeatChannel(3),\n",
    "        # transforms.HistogramNormalize(),\n",
    "        transforms.ScaleIntensity(),\n",
    "        transforms.RandGaussianNoise(prob=0.4),\n",
    "        transforms.Affine(\n",
    "            rotate_params=np.pi/4, scale_params=(1.2, 1.2),\n",
    "            translate_params=(5, 5), padding_mode='zeros', image_only=True\n",
    "        ),\n",
    "        transforms.RandRotate(range_x=np.pi / 12, prob=0.5, keep_size=True),\n",
    "        transforms.RandFlip(spatial_axis=0, prob=0.5),\n",
    "        transforms.RandZoom(min_zoom=0.9, max_zoom=1.1, prob=0.5),\n",
    "        \n",
    "        transforms.SpatialPad(spatial_size=[IMAGE_SIZE, IMAGE_SIZE, ]),\n",
    "        transforms.Resize([IMAGE_SIZE, IMAGE_SIZE, ]),\n",
    "        transforms.EnsureType(),\n",
    "    ]),\n",
    "    'eval' : transforms.Compose([\n",
    "        transforms.LoadImage(image_only=True, reader='pilreader'),\n",
    "        transforms.AddChannel(),\n",
    "        transforms.RepeatChannel(3),\n",
    "        transforms.ScaleIntensity(),\n",
    "        \n",
    "        transforms.SpatialPad(spatial_size=[IMAGE_SIZE, IMAGE_SIZE, ]),\n",
    "        transforms.Resize([IMAGE_SIZE, IMAGE_SIZE,]),\n",
    "        transforms.EnsureType(),\n",
    "    ]),\n",
    "    'vis': transforms.Compose([\n",
    "        transforms.LoadImage(image_only=True, reader='pilreader'),\n",
    "        transforms.AddChannel(),\n",
    "        transforms.RepeatChannel(3),\n",
    "        transforms.EnsureType(),\n",
    "    ]),\n",
    "}"
   ]
  },
  {
   "cell_type": "code",
   "execution_count": 10,
   "metadata": {},
   "outputs": [
    {
     "name": "stderr",
     "output_type": "stream",
     "text": [
      "Clipping input data to the valid range for imshow with RGB data ([0..1] for floats or [0..255] for integers).\n"
     ]
    },
    {
     "name": "stdout",
     "output_type": "stream",
     "text": [
      "(96, 96, 3)\n"
     ]
    },
    {
     "data": {
      "image/png": "[encoded data removed]",
      "text/plain": [
       "<Figure size 432x288 with 1 Axes>"
      ]
     },
     "metadata": {
      "needs_background": "light"
     },
     "output_type": "display_data"
    }
   ],
   "source": [
    "data = data_pipe['train'](f)\n",
    "data = data.numpy()\n",
    "data = np.moveaxis(data, 0, -1)\n",
    "print(data.shape)\n",
    "plt.imshow(data)\n",
    "plt.show()\n",
    "# data.max(), data.min()"
   ]
  },
  {
   "cell_type": "markdown",
   "metadata": {},
   "source": [
    "# Img Statistic"
   ]
  },
  {
   "cell_type": "code",
   "execution_count": 11,
   "metadata": {},
   "outputs": [
    {
     "ename": "NameError",
     "evalue": "name 'T' is not defined",
     "output_type": "error",
     "traceback": [
      "\u001b[0;31m---------------------------------------------------------------------------\u001b[0m",
      "\u001b[0;31mNameError\u001b[0m                                 Traceback (most recent call last)",
      "\u001b[0;32m<ipython-input-11-c366e449238c>\u001b[0m in \u001b[0;36m<module>\u001b[0;34m\u001b[0m\n\u001b[0;32m----> 1\u001b[0;31m test_aug = T.Compose([\n\u001b[0m\u001b[1;32m      2\u001b[0m     \u001b[0mImgPad\u001b[0m\u001b[0;34m(\u001b[0m\u001b[0mIMAGE_SIZE\u001b[0m\u001b[0;34m)\u001b[0m\u001b[0;34m,\u001b[0m\u001b[0;34m\u001b[0m\u001b[0;34m\u001b[0m\u001b[0m\n\u001b[1;32m      3\u001b[0m     \u001b[0mT\u001b[0m\u001b[0;34m.\u001b[0m\u001b[0mResize\u001b[0m\u001b[0;34m(\u001b[0m\u001b[0;34m(\u001b[0m\u001b[0mIMAGE_SIZE\u001b[0m\u001b[0;34m,\u001b[0m \u001b[0mIMAGE_SIZE\u001b[0m\u001b[0;34m)\u001b[0m\u001b[0;34m)\u001b[0m\u001b[0;34m,\u001b[0m\u001b[0;34m\u001b[0m\u001b[0;34m\u001b[0m\u001b[0m\n\u001b[1;32m      4\u001b[0m     \u001b[0mT\u001b[0m\u001b[0;34m.\u001b[0m\u001b[0mToTensor\u001b[0m\u001b[0;34m(\u001b[0m\u001b[0;34m)\u001b[0m\u001b[0;34m,\u001b[0m\u001b[0;34m\u001b[0m\u001b[0;34m\u001b[0m\u001b[0m\n\u001b[1;32m      5\u001b[0m ])\n",
      "\u001b[0;31mNameError\u001b[0m: name 'T' is not defined"
     ]
    }
   ],
   "source": [
    "test_aug = T.Compose([\n",
    "    ImgPad(IMAGE_SIZE), \n",
    "    T.Resize((IMAGE_SIZE, IMAGE_SIZE)), \n",
    "    T.ToTensor(), \n",
    "])\n",
    "\n",
    "def show_statistic(dtype):\n",
    "    df = pd.read_excel(xls_file, sheet_name='Sheet2')\n",
    "    ds = PR_Dataset(df, dtype, eval_mode=True)\n",
    "    mean, std, sz = 0, 0, ds.__len__()\n",
    "    s = torch.tensor([0, 0, 0])\n",
    "    for i in range(sz):\n",
    "        img = ds.features[i]['img']\n",
    "        img = data_pipe['eval'](img)\n",
    "        # img = data_pipe['vis'](img)\n",
    "\n",
    "        mean += torch.mean(img.view(3, -1), 1)\n",
    "        std += torch.std(img.view(3, -1), 1)\n",
    "        s += torch.tensor(img.shape)\n",
    "    print('Shape :', s / sz)\n",
    "    print(f'mean : ', mean/(sz))\n",
    "    print('std : ', std/(sz))\n",
    "    \n",
    "for d in ['T1', 'T1c', 'T2', 'Flair']: \n",
    "    show_statistic(d)\n"
   ]
  },
  {
   "cell_type": "markdown",
   "metadata": {},
   "source": [
    "# Image Vis"
   ]
  },
  {
   "cell_type": "code",
   "execution_count": null,
   "metadata": {},
   "outputs": [
    {
     "name": "stdout",
     "output_type": "stream",
     "text": [
      "[0.64772727 2.19230769]\n",
      "T1 | 56 images found\n"
     ]
    },
    {
     "ename": "AttributeError",
     "evalue": "'str' object has no attribute 'size'",
     "output_type": "error",
     "traceback": [
      "\u001b[0;31m---------------------------------------------------------------------------\u001b[0m",
      "\u001b[0;31mAttributeError\u001b[0m                            Traceback (most recent call last)",
      "\u001b[0;32m<ipython-input-5-9e216983be0c>\u001b[0m in \u001b[0;36m<module>\u001b[0;34m\u001b[0m\n\u001b[1;32m     21\u001b[0m \u001b[0;34m\u001b[0m\u001b[0m\n\u001b[1;32m     22\u001b[0m \u001b[0;32mfor\u001b[0m \u001b[0md\u001b[0m \u001b[0;32min\u001b[0m \u001b[0;34m[\u001b[0m\u001b[0;34m'T1'\u001b[0m\u001b[0;34m,\u001b[0m \u001b[0;34m'T1c'\u001b[0m\u001b[0;34m,\u001b[0m \u001b[0;34m'T2'\u001b[0m\u001b[0;34m,\u001b[0m \u001b[0;34m'Flair'\u001b[0m\u001b[0;34m]\u001b[0m\u001b[0;34m:\u001b[0m\u001b[0;34m\u001b[0m\u001b[0;34m\u001b[0m\u001b[0m\n\u001b[0;32m---> 23\u001b[0;31m     \u001b[0mshow_mri\u001b[0m\u001b[0;34m(\u001b[0m\u001b[0md\u001b[0m\u001b[0;34m)\u001b[0m\u001b[0;34m\u001b[0m\u001b[0;34m\u001b[0m\u001b[0m\n\u001b[0m",
      "\u001b[0;32m<ipython-input-5-9e216983be0c>\u001b[0m in \u001b[0;36mshow_mri\u001b[0;34m(dtype, T)\u001b[0m\n\u001b[1;32m     14\u001b[0m         \u001b[0mimg\u001b[0m \u001b[0;34m=\u001b[0m \u001b[0mds\u001b[0m\u001b[0;34m.\u001b[0m\u001b[0mfeatures\u001b[0m\u001b[0;34m[\u001b[0m\u001b[0mi\u001b[0m\u001b[0;34m]\u001b[0m\u001b[0;34m[\u001b[0m\u001b[0;34m'img'\u001b[0m\u001b[0;34m]\u001b[0m\u001b[0;34m\u001b[0m\u001b[0;34m\u001b[0m\u001b[0m\n\u001b[1;32m     15\u001b[0m         \u001b[0;32mif\u001b[0m \u001b[0mT\u001b[0m\u001b[0;34m:\u001b[0m \u001b[0mimg\u001b[0m \u001b[0;34m=\u001b[0m \u001b[0mT\u001b[0m\u001b[0;34m(\u001b[0m\u001b[0mimg\u001b[0m\u001b[0;34m)\u001b[0m\u001b[0;34m\u001b[0m\u001b[0;34m\u001b[0m\u001b[0m\n\u001b[0;32m---> 16\u001b[0;31m         \u001b[0;32melse\u001b[0m \u001b[0;34m:\u001b[0m \u001b[0mimg\u001b[0m \u001b[0;34m=\u001b[0m \u001b[0mpad_and_resize\u001b[0m\u001b[0;34m(\u001b[0m\u001b[0mimg\u001b[0m\u001b[0;34m)\u001b[0m\u001b[0;34m\u001b[0m\u001b[0;34m\u001b[0m\u001b[0m\n\u001b[0m\u001b[1;32m     17\u001b[0m \u001b[0;34m\u001b[0m\u001b[0m\n\u001b[1;32m     18\u001b[0m         \u001b[0mfig\u001b[0m\u001b[0;34m.\u001b[0m\u001b[0madd_subplot\u001b[0m\u001b[0;34m(\u001b[0m\u001b[0mrows\u001b[0m\u001b[0;34m,\u001b[0m \u001b[0mcolumns\u001b[0m\u001b[0;34m,\u001b[0m \u001b[0mi\u001b[0m\u001b[0;34m)\u001b[0m\u001b[0;34m\u001b[0m\u001b[0;34m\u001b[0m\u001b[0m\n",
      "\u001b[0;32m~/anaconda3/envs/brain-pr/lib/python3.7/site-packages/torchvision/transforms/transforms.py\u001b[0m in \u001b[0;36m__call__\u001b[0;34m(self, img)\u001b[0m\n\u001b[1;32m     58\u001b[0m     \u001b[0;32mdef\u001b[0m \u001b[0m__call__\u001b[0m\u001b[0;34m(\u001b[0m\u001b[0mself\u001b[0m\u001b[0;34m,\u001b[0m \u001b[0mimg\u001b[0m\u001b[0;34m)\u001b[0m\u001b[0;34m:\u001b[0m\u001b[0;34m\u001b[0m\u001b[0;34m\u001b[0m\u001b[0m\n\u001b[1;32m     59\u001b[0m         \u001b[0;32mfor\u001b[0m \u001b[0mt\u001b[0m \u001b[0;32min\u001b[0m \u001b[0mself\u001b[0m\u001b[0;34m.\u001b[0m\u001b[0mtransforms\u001b[0m\u001b[0;34m:\u001b[0m\u001b[0;34m\u001b[0m\u001b[0;34m\u001b[0m\u001b[0m\n\u001b[0;32m---> 60\u001b[0;31m             \u001b[0mimg\u001b[0m \u001b[0;34m=\u001b[0m \u001b[0mt\u001b[0m\u001b[0;34m(\u001b[0m\u001b[0mimg\u001b[0m\u001b[0;34m)\u001b[0m\u001b[0;34m\u001b[0m\u001b[0;34m\u001b[0m\u001b[0m\n\u001b[0m\u001b[1;32m     61\u001b[0m         \u001b[0;32mreturn\u001b[0m \u001b[0mimg\u001b[0m\u001b[0;34m\u001b[0m\u001b[0;34m\u001b[0m\u001b[0m\n\u001b[1;32m     62\u001b[0m \u001b[0;34m\u001b[0m\u001b[0m\n",
      "\u001b[0;32m~/anaconda3/envs/brain-pr/lib/python3.7/site-packages/torch/nn/modules/module.py\u001b[0m in \u001b[0;36m_call_impl\u001b[0;34m(self, *input, **kwargs)\u001b[0m\n\u001b[1;32m    887\u001b[0m             \u001b[0mresult\u001b[0m \u001b[0;34m=\u001b[0m \u001b[0mself\u001b[0m\u001b[0;34m.\u001b[0m\u001b[0m_slow_forward\u001b[0m\u001b[0;34m(\u001b[0m\u001b[0;34m*\u001b[0m\u001b[0minput\u001b[0m\u001b[0;34m,\u001b[0m \u001b[0;34m**\u001b[0m\u001b[0mkwargs\u001b[0m\u001b[0;34m)\u001b[0m\u001b[0;34m\u001b[0m\u001b[0;34m\u001b[0m\u001b[0m\n\u001b[1;32m    888\u001b[0m         \u001b[0;32melse\u001b[0m\u001b[0;34m:\u001b[0m\u001b[0;34m\u001b[0m\u001b[0;34m\u001b[0m\u001b[0m\n\u001b[0;32m--> 889\u001b[0;31m             \u001b[0mresult\u001b[0m \u001b[0;34m=\u001b[0m \u001b[0mself\u001b[0m\u001b[0;34m.\u001b[0m\u001b[0mforward\u001b[0m\u001b[0;34m(\u001b[0m\u001b[0;34m*\u001b[0m\u001b[0minput\u001b[0m\u001b[0;34m,\u001b[0m \u001b[0;34m**\u001b[0m\u001b[0mkwargs\u001b[0m\u001b[0;34m)\u001b[0m\u001b[0;34m\u001b[0m\u001b[0;34m\u001b[0m\u001b[0m\n\u001b[0m\u001b[1;32m    890\u001b[0m         for hook in itertools.chain(\n\u001b[1;32m    891\u001b[0m                 \u001b[0m_global_forward_hooks\u001b[0m\u001b[0;34m.\u001b[0m\u001b[0mvalues\u001b[0m\u001b[0;34m(\u001b[0m\u001b[0;34m)\u001b[0m\u001b[0;34m,\u001b[0m\u001b[0;34m\u001b[0m\u001b[0;34m\u001b[0m\u001b[0m\n",
      "\u001b[0;32m~/Chemei-PR/loader.py\u001b[0m in \u001b[0;36mforward\u001b[0;34m(self, img)\u001b[0m\n\u001b[1;32m     84\u001b[0m         \u001b[0mself\u001b[0m\u001b[0;34m.\u001b[0m\u001b[0mimg_size\u001b[0m \u001b[0;34m=\u001b[0m \u001b[0mimg_size\u001b[0m\u001b[0;34m\u001b[0m\u001b[0;34m\u001b[0m\u001b[0m\n\u001b[1;32m     85\u001b[0m     \u001b[0;32mdef\u001b[0m \u001b[0mforward\u001b[0m\u001b[0;34m(\u001b[0m\u001b[0mself\u001b[0m\u001b[0;34m,\u001b[0m \u001b[0mimg\u001b[0m\u001b[0;34m)\u001b[0m\u001b[0;34m:\u001b[0m\u001b[0;34m\u001b[0m\u001b[0;34m\u001b[0m\u001b[0m\n\u001b[0;32m---> 86\u001b[0;31m         \u001b[0mw\u001b[0m\u001b[0;34m,\u001b[0m \u001b[0mh\u001b[0m \u001b[0;34m=\u001b[0m \u001b[0mimg\u001b[0m\u001b[0;34m.\u001b[0m\u001b[0msize\u001b[0m\u001b[0;34m\u001b[0m\u001b[0;34m\u001b[0m\u001b[0m\n\u001b[0m\u001b[1;32m     87\u001b[0m         \u001b[0mleft\u001b[0m \u001b[0;34m=\u001b[0m  \u001b[0;34m(\u001b[0m\u001b[0mself\u001b[0m\u001b[0;34m.\u001b[0m\u001b[0mimg_size\u001b[0m \u001b[0;34m-\u001b[0m \u001b[0mw\u001b[0m\u001b[0;34m)\u001b[0m \u001b[0;34m//\u001b[0m \u001b[0;36m2\u001b[0m\u001b[0;34m\u001b[0m\u001b[0;34m\u001b[0m\u001b[0m\n\u001b[1;32m     88\u001b[0m         \u001b[0mright\u001b[0m \u001b[0;34m=\u001b[0m  \u001b[0mself\u001b[0m\u001b[0;34m.\u001b[0m\u001b[0mimg_size\u001b[0m \u001b[0;34m-\u001b[0m \u001b[0mw\u001b[0m \u001b[0;34m-\u001b[0m \u001b[0mleft\u001b[0m\u001b[0;34m\u001b[0m\u001b[0;34m\u001b[0m\u001b[0m\n",
      "\u001b[0;31mAttributeError\u001b[0m: 'str' object has no attribute 'size'"
     ]
    },
    {
     "data": {
      "text/plain": [
       "<Figure size 576x576 with 0 Axes>"
      ]
     },
     "metadata": {},
     "output_type": "display_data"
    }
   ],
   "source": [
    "pad_and_resize = T.Compose([\n",
    "    ImgPad(IMAGE_SIZE), \n",
    "    T.Resize((IMAGE_SIZE, IMAGE_SIZE)), \n",
    "])\n",
    "\n",
    "def show_mri(dtype, T=None):\n",
    "    df = pd.read_excel(xls_file, sheet_name='Sheet2')\n",
    "    ds = PR_Dataset(df, dtype, eval_mode=False)\n",
    "    columns, rows = 4, 5\n",
    "    fig = plt.figure(figsize=(8, 8))\n",
    "\n",
    "    for i in range(1, columns*rows +1):\n",
    "\n",
    "        img = ds.features[i]['img']\n",
    "        if T: img = T(img)\n",
    "        else : img = pad_and_resize(img)\n",
    "\n",
    "        fig.add_subplot(rows, columns, i)\n",
    "        plt.imshow(img)\n",
    "    plt.show()  \n",
    "\n",
    "for d in ['T1', 'T1c', 'T2', 'Flair']:  show_mri(d)"
   ]
  }
 ],
 "metadata": {
  "interpreter": {
   "hash": "eeb9977edf8d0d04097f129c5c8b26f8724cf46ef57b2e050a86838b340d1b2e"
  },
  "kernelspec": {
   "display_name": "Python 3.7.11 64-bit ('brain-pr': conda)",
   "name": "python3"
  },
  "language_info": {
   "codemirror_mode": {
    "name": "ipython",
    "version": 3
   },
   "file_extension": ".py",
   "mimetype": "text/x-python",
   "name": "python",
   "nbconvert_exporter": "python",
   "pygments_lexer": "ipython3",
   "version": "3.7.11"
  },
  "orig_nbformat": 4
 },
 "nbformat": 4,
 "nbformat_minor": 2
}
