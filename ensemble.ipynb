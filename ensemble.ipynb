{
 "cells": [
  {
   "cell_type": "code",
   "execution_count": 2,
   "metadata": {},
   "outputs": [],
   "source": [
    "from comet_ml import Experiment\n",
    "from comet_ml import OfflineExperiment\n",
    "import pandas as pd \n",
    "from cfg import *\n",
    "import cv2\n",
    "import numpy as np\n",
    "from loader import data_pipe\n",
    "from skimage.feature import texture\n",
    "import glob\n",
    "from personal_cls import run\n",
    "import lightgbm as lgb\n",
    "import random\n",
    "\n",
    "from sklearn import metrics\n",
    "from sklearn.linear_model import LogisticRegression\n",
    "from sklearn.svm import SVC, NuSVC\n",
    "from sklearn.model_selection import cross_validate\n",
    "from loader import numerical_loader\n",
    "import numpy as np\n",
    "from sklearn.feature_selection import VarianceThreshold\n",
    "from sklearn.ensemble import RandomForestClassifier\n",
    "import lightgbm as lgb\n",
    "from sklearn.model_selection import StratifiedKFold\n",
    "from sklearn.ensemble import GradientBoostingClassifier\n",
    "from imblearn.over_sampling import RandomOverSampler, SMOTE \n",
    "from cfg import *\n",
    "import random\n",
    "import matplotlib.pyplot as plt\n",
    "\n",
    "from loader import *\n",
    "from mri_cls import clf as img_clf\n",
    "from personal_cls import clf as num_clf"
   ]
  },
  {
   "cell_type": "code",
   "execution_count": 3,
   "metadata": {},
   "outputs": [
    {
     "name": "stdout",
     "output_type": "stream",
     "text": [
      "Index(['病歷號 (yellow in WHO grade I file) ', 'Gender (M:1 F:0)', 'Age',\n",
      "       'ADC tumor', 'Adjacent bone invasion', 'GTR', 'STR',\n",
      "       'Peritumoral edema (Yes:1 or No:1)',\n",
      "       'Heterogeneous enhancement (Yes:1 or No:0)', 'Calcification',\n",
      "       'Reactive hyperostosis', 'Dural tail sign', 'Cystic change or necrosis',\n",
      "       'Maximal diameter', 'Tumor volume (cm3)', 'x', 'y', 'z',\n",
      "       'Special histology_0', 'Special histology_1', 'Special histology_3',\n",
      "       'Simpson grade resection_1', 'Simpson grade resection_2',\n",
      "       'Simpson grade resection_3', 'Simpson grade resection_4'],\n",
      "      dtype='object')\n",
      "(25,) (25,)\n",
      "Number of Patients and feature : 57 17\n",
      "Number of Case 1 and Case 2 : 44 13\n",
      "-------------------------\n",
      "Using feature:\n",
      "0 | 病歷號 (yellow in WHO grade I file) \n",
      "1 | Gender (M:1 F:0)\n",
      "3 | ADC tumor\n",
      "5 | GTR\n",
      "6 | STR\n",
      "7 | Peritumoral edema (Yes:1 or No:1)\n",
      "8 | Heterogeneous enhancement (Yes:1 or No:0)\n",
      "9 | Calcification\n",
      "11 | Dural tail sign\n",
      "13 | Maximal diameter\n",
      "14 | Tumor volume (cm3)\n",
      "15 | x\n",
      "16 | y\n",
      "17 | z\n",
      "21 | Simpson grade resection_1\n",
      "23 | Simpson grade resection_3\n",
      "24 | Simpson grade resection_4\n",
      "-------------------------\n"
     ]
    }
   ],
   "source": [
    "X_num, y = numerical_loader(drop_name=False)\n",
    "X_num = pd.DataFrame(X_num)\n",
    "X_num['label'] = y\n",
    "X_num[0] = X_num[0].astype(str)\n",
    "X_num = X_num.rename(columns={0: 'fname'})"
   ]
  },
  {
   "cell_type": "code",
   "execution_count": 4,
   "metadata": {},
   "outputs": [],
   "source": [
    "dtype = ['T1', 'T1c', 'T2', 'Flair']\n",
    "# dtype = ['Flair']\n",
    "X_img, y = img_features(dtype, return_df=True)\n",
    "X_img['fname'] =  X_img['fname'].apply(lambda raw:raw.split('/')[-1][:-4]+'.0')"
   ]
  },
  {
   "cell_type": "code",
   "execution_count": 5,
   "metadata": {},
   "outputs": [],
   "source": [
    "X_ALL = pd.merge(X_num, X_img, how='inner', on='fname')\n",
    "X_fname = X_ALL.pop('fname')\n",
    "\n",
    "def run(X, cls, ros=False, thr=.5, seed=None):\n",
    "    met =  ['accuracy', 'precision', 'recall', 'roc_auc', 'fpr', 'tpr']\n",
    "    metric = ['train_' + val for val in met] + ['test_' + val for val in met]\n",
    "    result = {}\n",
    "    for m in metric:result[m] = []\n",
    "\n",
    "    skf = StratifiedKFold(n_splits=K_FOLD, shuffle=True, random_state=seed)\n",
    "    \n",
    "    y = X.pop('label')\n",
    "    svm_scores = pd.DataFrame(X_fname.copy())\n",
    "    svm_scores['prob'] = \"\"\n",
    "    \n",
    "    for train_idx, val_idx in skf.split(X, y):\n",
    "        Xnum_train, Xnum_test = X.loc[train_idx], X.loc[val_idx]\n",
    "        y_train, y_test = y.loc[train_idx], y.loc[val_idx]\n",
    "\n",
    "        Ximg_train = Xnum_train.pop('img_feature').to_list()\n",
    "        Ximg_test = Xnum_test.pop('img_feature').to_list()\n",
    "        \n",
    "        Ximg_train = np.array(Ximg_train)\n",
    "        Ximg_test = np.array(Ximg_test)\n",
    "\n",
    "        if ros:  Ximg_for_train, y_for_train = SMOTE(random_state=42).fit_resample(Ximg_train, y_train)\n",
    "\n",
    "        pos = 1\n",
    "        img_clf.fit(Ximg_for_train, y_for_train)\n",
    "        img_probs_train = img_clf.decision_function(Ximg_train)\n",
    "        img_probs_test = img_clf.decision_function(Ximg_test)\n",
    "        img_probs_train = np.expand_dims(img_probs_train, 1)\n",
    "        img_probs_test = np.expand_dims(img_probs_test, 1)\n",
    "\n",
    "        num_clf.fit(Xnum_train, y_train)\n",
    "        num_probs_train = num_clf.predict_proba(Xnum_train)[:, pos:]\n",
    "        num_probs_test = num_clf.predict_proba(Xnum_test)[:, pos:]\n",
    "\n",
    "        probs_train = np.concatenate([img_probs_train, num_probs_train], axis=1)\n",
    "        probs_test = np.concatenate([img_probs_test, num_probs_test], axis=1)\n",
    "        \n",
    "        cls.fit(probs_train, y_train)\n",
    "        y_pred = cls.predict_proba(probs_test)\n",
    "        \n",
    "        # svm_scores['prob'].loc[val_idx] = y_pred[:, 0]\n",
    "        svm_scores['prob'].loc[val_idx] = y_pred[:, 1]\n",
    "\n",
    "        fpr, tpr, _ = metrics.roc_curve(y_test, y_pred[:, 1])\n",
    "        y_pred = [1 if logit>thr else 0 for logit in y_pred[:, 1]]\n",
    "\n",
    "        result['test_accuracy'].append(metrics.accuracy_score(y_test, y_pred, ),)\n",
    "        result['test_precision'].append(metrics.precision_score(y_test, y_pred, zero_division=1),)\n",
    "        result['test_recall'].append(metrics.recall_score(y_test, y_pred, zero_division=1),)\n",
    "        result['test_roc_auc'].append(metrics.roc_auc_score(y_test, y_pred),)\n",
    "        result['test_fpr'].append(fpr)\n",
    "        result['test_tpr'].append(tpr)\n",
    "    # svm_scores['n'] = svm_scores2\n",
    "    return result, svm_scores"
   ]
  },
  {
   "cell_type": "code",
   "execution_count": 27,
   "metadata": {},
   "outputs": [
    {
     "name": "stderr",
     "output_type": "stream",
     "text": [
      "COMET WARNING: As you are running in a Jupyter environment, you will need to call `experiment.end()` when finished to ensure all metrics and code are logged before exiting.\n",
      "COMET INFO: Experiment is live on comet.ml https://www.comet.ml/wtyo1768/pr-classifier/8cbd1817926449c38a7c61ed959a60a2\n",
      "\n"
     ]
    },
    {
     "name": "stdout",
     "output_type": "stream",
     "text": [
      "accuracy |\t 0.9106060606060605\n",
      "precision |\t 0.8533333333333333\n",
      "recall |\t 0.8333333333333333\n",
      "roc_auc |\t 0.8805555555555555\n"
     ]
    },
    {
     "name": "stderr",
     "output_type": "stream",
     "text": [
      "COMET INFO: Uploading 1 metrics, params and output messages\n",
      "COMET INFO: Waiting for completion of the file uploads (may take several seconds)\n",
      "COMET INFO: The Python SDK has 10800 seconds to finish before aborting...\n",
      "COMET INFO: All files uploaded, waiting for confirmation they have been all received\n"
     ]
    },
    {
     "data": {
      "image/png": "[encoded data removed]",
      "text/plain": [
       "<Figure size 432x288 with 1 Axes>"
      ]
     },
     "metadata": {
      "needs_background": "light"
     },
     "output_type": "display_data"
    }
   ],
   "source": [
    "experiment = Experiment(\n",
    "        api_key=COMET_APT_KEY,\n",
    "        project_name=COMET_PROJECT_NAME,\n",
    "        workspace=COMET_WORK_SPACE,\n",
    "        display_summary_level=0,\n",
    "        log_code=False,\n",
    "        # disabled=True, \n",
    ")\n",
    "experiment.add_tag('ensemble')\n",
    "met =  ['accuracy', 'precision', 'recall', 'roc_auc']\n",
    "metric = ['test_' + val for val in met]\n",
    "base_fpr = np.linspace(0, 1, 101)\n",
    "tprs = []\n",
    "total_result = {}\n",
    "for m in metric: total_result[m] = []\n",
    "\n",
    "# clf = LogisticRegression(\n",
    "#     class_weight='balanced', \n",
    "#     max_iter=100,\n",
    "#     penalty='none',\n",
    "# )\n",
    "clf = RandomForestClassifier(max_depth=1, random_state=0, class_weight='balanced', \n",
    "                             n_estimators=11)\n",
    "svm_scores = []\n",
    "for i in range(NUM_RANDOM_STATE):\n",
    "    result, scores = run(X_ALL.copy(), clf, thr=.50, seed=SEEDS[i], ros=True)\n",
    "    for m in metric: total_result[m].append(result[m])\n",
    "    for j in range(len(result['test_fpr'])):\n",
    "        plt.plot(result['test_fpr'][j], result['test_tpr'][j], 'b', alpha=0.015)\n",
    "        tpr = np.interp(base_fpr, result['test_fpr'][j], result['test_tpr'][j])\n",
    "        tpr[0] = 0.0\n",
    "        tprs.append(tpr)\n",
    "    svm_scores.append(scores)\n",
    "    # break \n",
    "        \n",
    "for m in met: \n",
    "    print(m ,'|\\t',\n",
    "        #   np.mean(result[f'train_{m}']),\n",
    "          np.mean(result[f'test_{m}']))\n",
    "    experiment.log_metric(m, np.mean(result[f'test_{m}']))\n",
    "tprs = np.array(tprs)        \n",
    "mean_tprs = tprs.mean(axis=0)\n",
    "std = tprs.std(axis=0)\n",
    " \n",
    "tprs_upper = np.minimum(mean_tprs + std, 1)\n",
    "tprs_lower = mean_tprs - std\n",
    "experiment.log_curve('ROC_CURVE', base_fpr, mean_tprs)\n",
    "plt.plot(base_fpr, mean_tprs, 'b')\n",
    "plt.fill_between(base_fpr, tprs_lower, tprs_upper, color='grey', alpha=0.3)\n",
    "plt.xlim([-0.02, 1.02])\n",
    "plt.ylim([-0.02, 1.02])\n",
    "plt.plot([0, 1], [0, 1],'r--')\n",
    "plt.ylabel('True Positive Rate')\n",
    "plt.xlabel('False Positive Rate')\n",
    "plt.title('ROC curve')\n",
    "experiment.log_parameters({'seeds':SEEDS})\n",
    "experiment.log_figure('ROC curve', figure=plt)\n",
    "experiment.end()\n",
    "plt.show()\n",
    "# mean_tprs.tolist()"
   ]
  },
  {
   "cell_type": "code",
   "execution_count": 36,
   "metadata": {},
   "outputs": [
    {
     "name": "stdout",
     "output_type": "stream",
     "text": [
      "(56, 15)\n"
     ]
    },
    {
     "name": "stderr",
     "output_type": "stream",
     "text": [
      "/home/rockyo/anaconda3/envs/brain-pr/lib/python3.7/site-packages/ipykernel_launcher.py:2: FutureWarning: Passing 'suffixes' which cause duplicate columns {'prob_x'} in the result is deprecated and will raise a MergeError in a future version.\n",
      "  \n"
     ]
    }
   ],
   "source": [
    "from functools import reduce\n",
    "df_merged = reduce(lambda  left,right: pd.merge(left,right,on=['fname'], how='outer'), svm_scores)\n",
    "fname = df_merged.pop('fname')\n",
    "\n",
    "print(df_merged.shape)\n",
    "avg_score = df_merged.agg(\"mean\", axis=1)\n",
    "avg_score = pd.DataFrame(avg_score)\n",
    "avg_score['Patient ID'] = fname.to_list()\n",
    "avg_score.to_csv('./svm_socres.csv')\n",
    "# avg_score.max(), avg_score.min()"
   ]
  },
  {
   "cell_type": "code",
   "execution_count": 37,
   "metadata": {},
   "outputs": [
    {
     "data": {
      "text/plain": [
       "0     10027124.0\n",
       "1     11009708.0\n",
       "2     11775010.0\n",
       "3     12261283.0\n",
       "4     13488672.0\n",
       "5     13661917.0\n",
       "6     14041674.0\n",
       "7     15176128.0\n",
       "8     15525495.0\n",
       "9     15552568.0\n",
       "10    16113441.0\n",
       "11    17244854.0\n",
       "12    18456622.0\n",
       "13    18765851.0\n",
       "14    19315335.0\n",
       "15    19425238.0\n",
       "16    20483981.0\n",
       "17    20947834.0\n",
       "18    21105320.0\n",
       "19    21372392.0\n",
       "20    21381973.0\n",
       "21    22296689.0\n",
       "22    25385854.0\n",
       "23    25825974.0\n",
       "24    26073373.0\n",
       "25    26082459.0\n",
       "26    26434694.0\n",
       "27    26608196.0\n",
       "28    26658418.0\n",
       "29    27103788.0\n",
       "30    27237207.0\n",
       "31    27472711.0\n",
       "32    27607264.0\n",
       "33    27710844.0\n",
       "34    27931321.0\n",
       "35    28248060.0\n",
       "36    28267864.0\n",
       "37    28358688.0\n",
       "38    29177415.0\n",
       "39    29285707.0\n",
       "40    29301889.0\n",
       "41    29729120.0\n",
       "42    29816081.0\n",
       "43    30268702.0\n",
       "44    30517836.0\n",
       "45    30732894.0\n",
       "46    30871154.0\n",
       "47    30920239.0\n",
       "48    31001430.0\n",
       "49    31046225.0\n",
       "50    31406726.0\n",
       "51    31445157.0\n",
       "52    52847319.0\n",
       "53    24237245.0\n",
       "54    80190941.0\n",
       "55    33056266.0\n",
       "Name: Patient ID, dtype: object"
      ]
     },
     "execution_count": 37,
     "metadata": {},
     "output_type": "execute_result"
    }
   ],
   "source": [
    "avg_score.pop('Patient ID')"
   ]
  },
  {
   "cell_type": "code",
   "execution_count": 38,
   "metadata": {},
   "outputs": [
    {
     "data": {
      "text/plain": [
       "(0    0.93083\n",
       " dtype: float64,\n",
       " 0    0.049295\n",
       " dtype: float64)"
      ]
     },
     "execution_count": 38,
     "metadata": {},
     "output_type": "execute_result"
    }
   ],
   "source": [
    "avg_score.max(), avg_score.min()"
   ]
  },
  {
   "cell_type": "code",
   "execution_count": 29,
   "metadata": {},
   "outputs": [
    {
     "data": {
      "text/plain": [
       "[0.0,\n",
       " 0.6891555555555555,\n",
       " 0.6938666666666666,\n",
       " 0.6985777777777776,\n",
       " 0.7032888888888887,\n",
       " 0.708,\n",
       " 0.7127111111111111,\n",
       " 0.7174222222222221,\n",
       " 0.7221333333333332,\n",
       " 0.7268444444444444,\n",
       " 0.7315555555555555,\n",
       " 0.7362666666666665,\n",
       " 0.8096666666666666,\n",
       " 0.8157416666666664,\n",
       " 0.8170166666666664,\n",
       " 0.8182916666666665,\n",
       " 0.8195666666666664,\n",
       " 0.8208416666666664,\n",
       " 0.8221166666666665,\n",
       " 0.8233916666666665,\n",
       " 0.8246666666666664,\n",
       " 0.8259416666666665,\n",
       " 0.8272166666666665,\n",
       " 0.8348694444444443,\n",
       " 0.8357730158730157,\n",
       " 0.8588988095238093,\n",
       " 0.8608097883597882,\n",
       " 0.862720767195767,\n",
       " 0.8646317460317458,\n",
       " 0.8665427248677247,\n",
       " 0.8684537037037035,\n",
       " 0.8703646825396822,\n",
       " 0.8722756613756611,\n",
       " 0.8741866402116402,\n",
       " 0.876097619047619,\n",
       " 0.8780085978835976,\n",
       " 0.8799195767195764,\n",
       " 0.8818305555555555,\n",
       " 0.8834926455026454,\n",
       " 0.8849058465608463,\n",
       " 0.8863190476190475,\n",
       " 0.8877322486772485,\n",
       " 0.8891454497354495,\n",
       " 0.8905586507936507,\n",
       " 0.8919718518518518,\n",
       " 0.8932517195767193,\n",
       " 0.8944249206349205,\n",
       " 0.8955981216931216,\n",
       " 0.8967713227513228,\n",
       " 0.8979445238095237,\n",
       " 0.8991177248677247,\n",
       " 0.9006464814814815,\n",
       " 0.9021752380952381,\n",
       " 0.9037039947089947,\n",
       " 0.9052327513227514,\n",
       " 0.9067615079365081,\n",
       " 0.9150458201058201,\n",
       " 0.9167745767195765,\n",
       " 0.9185033333333334,\n",
       " 0.92023208994709,\n",
       " 0.9219608465608466,\n",
       " 0.9236896031746031,\n",
       " 0.92541835978836,\n",
       " 0.9315915608465608,\n",
       " 0.9333203174603174,\n",
       " 0.9350490740740741,\n",
       " 0.9367778306878307,\n",
       " 0.9385065873015871,\n",
       " 0.940235343915344,\n",
       " 0.9419641005291006,\n",
       " 0.9436928571428573,\n",
       " 0.9454216137566135,\n",
       " 0.9471503703703703,\n",
       " 0.948879126984127,\n",
       " 0.9506078835978836,\n",
       " 0.9523366402116401,\n",
       " 0.9542431746031745,\n",
       " 0.9561497089947089,\n",
       " 0.9580562433862432,\n",
       " 0.9599627777777776,\n",
       " 0.9618693121693122,\n",
       " 0.9637758465608467,\n",
       " 0.965682380952381,\n",
       " 0.9675889153439154,\n",
       " 0.9694954497354495,\n",
       " 0.9714019841269842,\n",
       " 0.9733085185185185,\n",
       " 0.9752150529100528,\n",
       " 0.9771215873015873,\n",
       " 0.9790281216931216,\n",
       " 0.980934656084656,\n",
       " 0.9828411904761903,\n",
       " 0.9847477248677247,\n",
       " 0.9866542592592591,\n",
       " 0.9885607936507936,\n",
       " 0.9904673280423282,\n",
       " 0.9923738624338625,\n",
       " 0.9942803968253969,\n",
       " 0.9961869312169312,\n",
       " 0.9980934656084657,\n",
       " 1.0]"
      ]
     },
     "execution_count": 29,
     "metadata": {},
     "output_type": "execute_result"
    }
   ],
   "source": [
    "mean_tprs.tolist()"
   ]
  }
 ],
 "metadata": {
  "interpreter": {
   "hash": "eeb9977edf8d0d04097f129c5c8b26f8724cf46ef57b2e050a86838b340d1b2e"
  },
  "kernelspec": {
   "display_name": "Python 3.7.11 64-bit ('brain-pr': conda)",
   "language": "python",
   "name": "python3"
  },
  "language_info": {
   "codemirror_mode": {
    "name": "ipython",
    "version": 3
   },
   "file_extension": ".py",
   "mimetype": "text/x-python",
   "name": "python",
   "nbconvert_exporter": "python",
   "pygments_lexer": "ipython3",
   "version": "3.7.11"
  },
  "orig_nbformat": 4
 },
 "nbformat": 4,
 "nbformat_minor": 2
}
