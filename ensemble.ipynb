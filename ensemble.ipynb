{
 "cells": [
  {
   "cell_type": "code",
   "execution_count": 1,
   "metadata": {},
   "outputs": [],
   "source": [
    "from comet_ml import Experiment\n",
    "from comet_ml import OfflineExperiment\n",
    "import pandas as pd \n",
    "from cfg import *\n",
    "import cv2\n",
    "import numpy as np\n",
    "from loader import data_pipe\n",
    "from skimage.feature import texture\n",
    "import glob\n",
    "from personal_cls import run\n",
    "import lightgbm as lgb\n",
    "import random\n",
    "\n",
    "from sklearn import metrics\n",
    "from sklearn.linear_model import LogisticRegression\n",
    "from sklearn.svm import SVC, NuSVC\n",
    "from sklearn.model_selection import cross_validate\n",
    "from loader import numerical_loader\n",
    "import numpy as np\n",
    "from sklearn.feature_selection import VarianceThreshold\n",
    "from sklearn.ensemble import RandomForestClassifier\n",
    "import lightgbm as lgb\n",
    "from sklearn.model_selection import StratifiedKFold\n",
    "from sklearn.ensemble import GradientBoostingClassifier\n",
    "from imblearn.over_sampling import RandomOverSampler, SMOTE \n",
    "from cfg import *\n",
    "import random\n",
    "import matplotlib.pyplot as plt\n",
    "import shap\n",
    "\n",
    "from loader import *\n",
    "from mri_cls import clf as img_clf\n",
    "from personal_cls import clf as num_clf"
   ]
  },
  {
   "cell_type": "code",
   "execution_count": 2,
   "metadata": {},
   "outputs": [
    {
     "name": "stdout",
     "output_type": "stream",
     "text": [
      "Index(['病歷號 (yellow in WHO grade I file) ', 'Gender (M:1 F:0)', 'Age',\n",
      "       'ADC tumor', 'Adjacent bone invasion', 'GTR', 'STR',\n",
      "       'Peritumoral edema (Yes:1 or No:1)',\n",
      "       'Heterogeneous enhancement (Yes:1 or No:0)', 'Calcification',\n",
      "       'Reactive hyperostosis', 'Dural tail sign', 'Cystic change or necrosis',\n",
      "       'Maximal diameter', 'Tumor volume (cm3)', 'x', 'y', 'z',\n",
      "       'Special histology_0', 'Special histology_1', 'Special histology_3',\n",
      "       'Simpson grade resection_1', 'Simpson grade resection_2',\n",
      "       'Simpson grade resection_3', 'Simpson grade resection_4'],\n",
      "      dtype='object')\n",
      "(25,) (25,)\n",
      "Number of Patients and feature : 57 17\n",
      "Number of Case 1 and Case 2 : 44 13\n",
      "-------------------------\n",
      "Using feature:\n",
      "0 | 病歷號 (yellow in WHO grade I file) \n",
      "1 | Gender (M:1 F:0)\n",
      "2 | ADC tumor\n",
      "3 | GTR\n",
      "4 | STR\n",
      "5 | Peritumoral edema (Yes:1 or No:1)\n",
      "6 | Heterogeneous enhancement (Yes:1 or No:0)\n",
      "7 | Calcification\n",
      "8 | Dural tail sign\n",
      "9 | Maximal diameter\n",
      "10 | Tumor volume (cm3)\n",
      "11 | x\n",
      "12 | y\n",
      "13 | z\n",
      "14 | Simpson grade resection_1\n",
      "15 | Simpson grade resection_3\n",
      "16 | Simpson grade resection_4\n",
      "-------------------------\n"
     ]
    },
    {
     "ename": "IndexError",
     "evalue": "boolean index did not match indexed array along dimension 1; dimension is 17 but corresponding boolean dimension is 15",
     "output_type": "error",
     "traceback": [
      "\u001b[0;31m---------------------------------------------------------------------------\u001b[0m",
      "\u001b[0;31mIndexError\u001b[0m                                Traceback (most recent call last)",
      "\u001b[0;32m<ipython-input-2-4a798c6168b8>\u001b[0m in \u001b[0;36m<module>\u001b[0;34m\u001b[0m\n\u001b[1;32m      1\u001b[0m \u001b[0mvis\u001b[0m \u001b[0;34m=\u001b[0m \u001b[0;32mTrue\u001b[0m\u001b[0;34m\u001b[0m\u001b[0;34m\u001b[0m\u001b[0m\n\u001b[0;32m----> 2\u001b[0;31m \u001b[0mX_num\u001b[0m\u001b[0;34m,\u001b[0m \u001b[0my\u001b[0m \u001b[0;34m=\u001b[0m \u001b[0mnumerical_loader\u001b[0m\u001b[0;34m(\u001b[0m\u001b[0mdrop_name\u001b[0m\u001b[0;34m=\u001b[0m\u001b[0;32mnot\u001b[0m \u001b[0mvis\u001b[0m\u001b[0;34m)\u001b[0m\u001b[0;34m\u001b[0m\u001b[0;34m\u001b[0m\u001b[0m\n\u001b[0m\u001b[1;32m      3\u001b[0m \u001b[0mX_num\u001b[0m \u001b[0;34m=\u001b[0m \u001b[0mpd\u001b[0m\u001b[0;34m.\u001b[0m\u001b[0mDataFrame\u001b[0m\u001b[0;34m(\u001b[0m\u001b[0mX_num\u001b[0m\u001b[0;34m)\u001b[0m\u001b[0;34m\u001b[0m\u001b[0;34m\u001b[0m\u001b[0m\n\u001b[1;32m      4\u001b[0m \u001b[0mX_num\u001b[0m\u001b[0;34m[\u001b[0m\u001b[0;34m'label'\u001b[0m\u001b[0;34m]\u001b[0m \u001b[0;34m=\u001b[0m \u001b[0my\u001b[0m\u001b[0;34m\u001b[0m\u001b[0;34m\u001b[0m\u001b[0m\n\u001b[1;32m      5\u001b[0m \u001b[0mX_num\u001b[0m\u001b[0;34m[\u001b[0m\u001b[0;36m0\u001b[0m\u001b[0;34m]\u001b[0m \u001b[0;34m=\u001b[0m \u001b[0mX_num\u001b[0m\u001b[0;34m[\u001b[0m\u001b[0;36m0\u001b[0m\u001b[0;34m]\u001b[0m\u001b[0;34m.\u001b[0m\u001b[0mastype\u001b[0m\u001b[0;34m(\u001b[0m\u001b[0mstr\u001b[0m\u001b[0;34m)\u001b[0m\u001b[0;34m\u001b[0m\u001b[0;34m\u001b[0m\u001b[0m\n",
      "\u001b[0;32m~/Chemei-PR/loader.py\u001b[0m in \u001b[0;36mnumerical_loader\u001b[0;34m(drop_name)\u001b[0m\n\u001b[1;32m     72\u001b[0m     mask = [  True,  True,  True, False, False,  True, False,  True,  True,  True,  True,\n\u001b[1;32m     73\u001b[0m                 True,  True, False,  True]\n\u001b[0;32m---> 74\u001b[0;31m     \u001b[0mdf\u001b[0m \u001b[0;34m=\u001b[0m \u001b[0mdf\u001b[0m\u001b[0;34m[\u001b[0m\u001b[0;34m:\u001b[0m\u001b[0;34m,\u001b[0m \u001b[0mmask\u001b[0m\u001b[0;34m]\u001b[0m\u001b[0;34m\u001b[0m\u001b[0;34m\u001b[0m\u001b[0m\n\u001b[0m\u001b[1;32m     75\u001b[0m     \u001b[0;32mreturn\u001b[0m \u001b[0mdf\u001b[0m\u001b[0;34m,\u001b[0m \u001b[0my_df\u001b[0m\u001b[0;34m\u001b[0m\u001b[0;34m\u001b[0m\u001b[0m\n\u001b[1;32m     76\u001b[0m \u001b[0;34m\u001b[0m\u001b[0m\n",
      "\u001b[0;31mIndexError\u001b[0m: boolean index did not match indexed array along dimension 1; dimension is 17 but corresponding boolean dimension is 15"
     ]
    }
   ],
   "source": [
    "vis = True\n",
    "X_num, y = numerical_loader(drop_name=not vis)\n",
    "X_num = pd.DataFrame(X_num)\n",
    "X_num['label'] = y\n",
    "X_num[0] = X_num[0].astype(str)\n",
    "X_num = X_num.rename(columns={0: 'fname'})"
   ]
  },
  {
   "cell_type": "code",
   "execution_count": null,
   "metadata": {},
   "outputs": [],
   "source": [
    "dtype = ['T1', 'T1c', 'T2', 'Flair']\n",
    "# dtype = ['Flair']\n",
    "X_img, y = img_features(dtype, return_df=True)\n",
    "X_img['fname'] =  X_img['fname'].apply(lambda raw:raw.split('/')[-1][:-4]+'.0')"
   ]
  },
  {
   "cell_type": "code",
   "execution_count": null,
   "metadata": {},
   "outputs": [],
   "source": [
    "X_ALL = pd.merge(X_num, X_img, how='inner', on='fname')\n",
    "X_fname = X_ALL.pop('fname')\n",
    "\n",
    "def run(X, cls, ros=False, thr=.5, seed=None, vis=True):\n",
    "    met =  ['accuracy', 'precision', 'recall', 'roc_auc', 'fpr', 'tpr']\n",
    "    metric = ['train_' + val for val in met] + ['test_' + val for val in met]\n",
    "    result = {}\n",
    "    for m in metric:result[m] = []\n",
    "\n",
    "    skf = StratifiedKFold(n_splits=K_FOLD, shuffle=True, random_state=seed)\n",
    "    \n",
    "    y = X.pop('label')\n",
    "    svm_scores = pd.DataFrame(X_fname.copy())\n",
    "    svm_scores['prob'] = \"\"\n",
    "    \n",
    "    for train_idx, val_idx in skf.split(X, y):\n",
    "        Xnum_train, Xnum_test = X.loc[train_idx], X.loc[val_idx]\n",
    "        y_train, y_test = y.loc[train_idx], y.loc[val_idx]\n",
    "\n",
    "        Ximg_train = Xnum_train.pop('img_feature').to_list()\n",
    "        Ximg_test = Xnum_test.pop('img_feature').to_list()\n",
    "        \n",
    "        Ximg_train = np.array(Ximg_train)\n",
    "        Ximg_test = np.array(Ximg_test)\n",
    "\n",
    "        if ros:  Ximg_for_train, y_for_train = SMOTE(random_state=42).fit_resample(Ximg_train, y_train)\n",
    "\n",
    "        pos = 1\n",
    "        img_clf.fit(Ximg_for_train, y_for_train)\n",
    "        img_probs_train = img_clf.decision_function(Ximg_train)\n",
    "        img_probs_test = img_clf.decision_function(Ximg_test)\n",
    "        img_probs_train = np.expand_dims(img_probs_train, 1)\n",
    "        img_probs_test = np.expand_dims(img_probs_test, 1)\n",
    "\n",
    "        num_clf.fit(Xnum_train, y_train)\n",
    "        num_probs_train = num_clf.predict_proba(Xnum_train)[:, pos:]\n",
    "        num_probs_test = num_clf.predict_proba(Xnum_test)[:, pos:]\n",
    "        explainer = shap.TreeExplainer(num_clf)\n",
    "        shap_values_num = explainer.shap_values(Xnum_test)\n",
    "\n",
    "        probs_train = np.concatenate([img_probs_train, num_probs_train], axis=1)\n",
    "        probs_test = np.concatenate([img_probs_test, num_probs_test], axis=1)\n",
    "        \n",
    "        cls.fit(probs_train, y_train)\n",
    "        # Model importance\n",
    "        explainer = shap.TreeExplainer(clf)\n",
    "        shap_values = explainer.shap_values(probs_test)\n",
    "        y_pred = cls.predict_proba(probs_test)\n",
    "        \n",
    "        # svm_scores['prob'].loc[val_idx] = y_pred[:, 0]\n",
    "        svm_scores['prob'].loc[val_idx] = y_pred[:, 1]\n",
    "\n",
    "        fpr, tpr, _ = metrics.roc_curve(y_test, y_pred[:, 1])\n",
    "        y_pred = [1 if logit>thr else 0 for logit in y_pred[:, 1]]\n",
    "\n",
    "        result['test_accuracy'].append(metrics.accuracy_score(y_test, y_pred, ),)\n",
    "        result['test_precision'].append(metrics.precision_score(y_test, y_pred, zero_division=1),)\n",
    "        result['test_recall'].append(metrics.recall_score(y_test, y_pred, zero_division=1),)\n",
    "        result['test_roc_auc'].append(metrics.roc_auc_score(y_test, y_pred),)\n",
    "        result['test_fpr'].append(fpr)\n",
    "        result['test_tpr'].append(tpr)\n",
    "    # svm_scores['n'] = svm_scores2\n",
    "    if vis:\n",
    "        return result, svm_scores, shap_values, probs_test, shap_values_num, Xnum_test\n",
    "    return result, svm_scores"
   ]
  },
  {
   "cell_type": "code",
   "execution_count": null,
   "metadata": {},
   "outputs": [
    {
     "name": "stderr",
     "output_type": "stream",
     "text": [
      "COMET WARNING: As you are running in a Jupyter environment, you will need to call `experiment.end()` when finished to ensure all metrics and code are logged before exiting.\n",
      "LightGBM binary classifier with TreeExplainer shap values output has changed to a list of ndarray\n",
      "LightGBM binary classifier with TreeExplainer shap values output has changed to a list of ndarray\n",
      "LightGBM binary classifier with TreeExplainer shap values output has changed to a list of ndarray\n",
      "LightGBM binary classifier with TreeExplainer shap values output has changed to a list of ndarray\n",
      "LightGBM binary classifier with TreeExplainer shap values output has changed to a list of ndarray\n",
      "LightGBM binary classifier with TreeExplainer shap values output has changed to a list of ndarray\n",
      "LightGBM binary classifier with TreeExplainer shap values output has changed to a list of ndarray\n",
      "LightGBM binary classifier with TreeExplainer shap values output has changed to a list of ndarray\n",
      "LightGBM binary classifier with TreeExplainer shap values output has changed to a list of ndarray\n",
      "LightGBM binary classifier with TreeExplainer shap values output has changed to a list of ndarray\n",
      "LightGBM binary classifier with TreeExplainer shap values output has changed to a list of ndarray\n",
      "LightGBM binary classifier with TreeExplainer shap values output has changed to a list of ndarray\n",
      "LightGBM binary classifier with TreeExplainer shap values output has changed to a list of ndarray\n",
      "LightGBM binary classifier with TreeExplainer shap values output has changed to a list of ndarray\n",
      "LightGBM binary classifier with TreeExplainer shap values output has changed to a list of ndarray\n",
      "LightGBM binary classifier with TreeExplainer shap values output has changed to a list of ndarray\n",
      "LightGBM binary classifier with TreeExplainer shap values output has changed to a list of ndarray\n",
      "LightGBM binary classifier with TreeExplainer shap values output has changed to a list of ndarray\n",
      "LightGBM binary classifier with TreeExplainer shap values output has changed to a list of ndarray\n",
      "LightGBM binary classifier with TreeExplainer shap values output has changed to a list of ndarray\n",
      "LightGBM binary classifier with TreeExplainer shap values output has changed to a list of ndarray\n",
      "LightGBM binary classifier with TreeExplainer shap values output has changed to a list of ndarray\n",
      "LightGBM binary classifier with TreeExplainer shap values output has changed to a list of ndarray\n",
      "LightGBM binary classifier with TreeExplainer shap values output has changed to a list of ndarray\n",
      "LightGBM binary classifier with TreeExplainer shap values output has changed to a list of ndarray\n",
      "LightGBM binary classifier with TreeExplainer shap values output has changed to a list of ndarray\n",
      "LightGBM binary classifier with TreeExplainer shap values output has changed to a list of ndarray\n",
      "LightGBM binary classifier with TreeExplainer shap values output has changed to a list of ndarray\n",
      "LightGBM binary classifier with TreeExplainer shap values output has changed to a list of ndarray\n",
      "LightGBM binary classifier with TreeExplainer shap values output has changed to a list of ndarray\n",
      "LightGBM binary classifier with TreeExplainer shap values output has changed to a list of ndarray\n",
      "LightGBM binary classifier with TreeExplainer shap values output has changed to a list of ndarray\n",
      "LightGBM binary classifier with TreeExplainer shap values output has changed to a list of ndarray\n",
      "LightGBM binary classifier with TreeExplainer shap values output has changed to a list of ndarray\n",
      "LightGBM binary classifier with TreeExplainer shap values output has changed to a list of ndarray\n",
      "LightGBM binary classifier with TreeExplainer shap values output has changed to a list of ndarray\n",
      "LightGBM binary classifier with TreeExplainer shap values output has changed to a list of ndarray\n",
      "LightGBM binary classifier with TreeExplainer shap values output has changed to a list of ndarray\n",
      "LightGBM binary classifier with TreeExplainer shap values output has changed to a list of ndarray\n",
      "LightGBM binary classifier with TreeExplainer shap values output has changed to a list of ndarray\n",
      "LightGBM binary classifier with TreeExplainer shap values output has changed to a list of ndarray\n",
      "LightGBM binary classifier with TreeExplainer shap values output has changed to a list of ndarray\n",
      "LightGBM binary classifier with TreeExplainer shap values output has changed to a list of ndarray\n",
      "LightGBM binary classifier with TreeExplainer shap values output has changed to a list of ndarray\n",
      "LightGBM binary classifier with TreeExplainer shap values output has changed to a list of ndarray\n",
      "LightGBM binary classifier with TreeExplainer shap values output has changed to a list of ndarray\n",
      "LightGBM binary classifier with TreeExplainer shap values output has changed to a list of ndarray\n",
      "LightGBM binary classifier with TreeExplainer shap values output has changed to a list of ndarray\n",
      "LightGBM binary classifier with TreeExplainer shap values output has changed to a list of ndarray\n",
      "LightGBM binary classifier with TreeExplainer shap values output has changed to a list of ndarray\n",
      "LightGBM binary classifier with TreeExplainer shap values output has changed to a list of ndarray\n",
      "LightGBM binary classifier with TreeExplainer shap values output has changed to a list of ndarray\n",
      "LightGBM binary classifier with TreeExplainer shap values output has changed to a list of ndarray\n",
      "LightGBM binary classifier with TreeExplainer shap values output has changed to a list of ndarray\n",
      "LightGBM binary classifier with TreeExplainer shap values output has changed to a list of ndarray\n",
      "LightGBM binary classifier with TreeExplainer shap values output has changed to a list of ndarray\n",
      "LightGBM binary classifier with TreeExplainer shap values output has changed to a list of ndarray\n",
      "LightGBM binary classifier with TreeExplainer shap values output has changed to a list of ndarray\n",
      "LightGBM binary classifier with TreeExplainer shap values output has changed to a list of ndarray\n",
      "LightGBM binary classifier with TreeExplainer shap values output has changed to a list of ndarray\n",
      "LightGBM binary classifier with TreeExplainer shap values output has changed to a list of ndarray\n",
      "LightGBM binary classifier with TreeExplainer shap values output has changed to a list of ndarray\n",
      "LightGBM binary classifier with TreeExplainer shap values output has changed to a list of ndarray\n",
      "LightGBM binary classifier with TreeExplainer shap values output has changed to a list of ndarray\n",
      "LightGBM binary classifier with TreeExplainer shap values output has changed to a list of ndarray\n",
      "LightGBM binary classifier with TreeExplainer shap values output has changed to a list of ndarray\n",
      "LightGBM binary classifier with TreeExplainer shap values output has changed to a list of ndarray\n",
      "LightGBM binary classifier with TreeExplainer shap values output has changed to a list of ndarray\n",
      "LightGBM binary classifier with TreeExplainer shap values output has changed to a list of ndarray\n",
      "LightGBM binary classifier with TreeExplainer shap values output has changed to a list of ndarray\n",
      "LightGBM binary classifier with TreeExplainer shap values output has changed to a list of ndarray\n",
      "LightGBM binary classifier with TreeExplainer shap values output has changed to a list of ndarray\n",
      "LightGBM binary classifier with TreeExplainer shap values output has changed to a list of ndarray\n",
      "LightGBM binary classifier with TreeExplainer shap values output has changed to a list of ndarray\n",
      "LightGBM binary classifier with TreeExplainer shap values output has changed to a list of ndarray\n"
     ]
    },
    {
     "name": "stdout",
     "output_type": "stream",
     "text": [
      "accuracy |\t 0.8575757575757577\n",
      "precision |\t 0.8666666666666666\n",
      "recall |\t 0.5333333333333333\n",
      "roc_auc |\t 0.7444444444444445\n"
     ]
    },
    {
     "data": {
      "image/png": "[encoded data removed]",
      "text/plain": [
       "<Figure size 432x288 with 1 Axes>"
      ]
     },
     "metadata": {
      "needs_background": "light"
     },
     "output_type": "display_data"
    }
   ],
   "source": [
    "experiment = Experiment(\n",
    "        api_key=COMET_APT_KEY,\n",
    "        project_name=COMET_PROJECT_NAME,\n",
    "        workspace=COMET_WORK_SPACE,\n",
    "        display_summary_level=0,\n",
    "        log_code=False,\n",
    "        disabled=True, \n",
    ")\n",
    "experiment.add_tag('ensemble')\n",
    "met =  ['accuracy', 'precision', 'recall', 'roc_auc']\n",
    "metric = ['test_' + val for val in met]\n",
    "base_fpr = np.linspace(0, 1, 101)\n",
    "tprs = []\n",
    "total_result = {}\n",
    "for m in metric: total_result[m] = []\n",
    "\n",
    "# clf = LogisticRegression(\n",
    "#     class_weight='balanced', \n",
    "#     max_iter=100,\n",
    "#     penalty='no\n",
    "# ne',\n",
    "# )\n",
    "clf = RandomForestClassifier(max_depth=3, random_state=0, class_weight='balanced', \n",
    "                             n_estimators=11)\n",
    "svm_scores = []\n",
    "for i in range(NUM_RANDOM_STATE):\n",
    "    if vis:\n",
    "        result, scores, shap_values, shap_X_test, shap_values_num, Xnum_test = run(X_ALL.copy(), clf, thr=.50, seed=SEEDS[i], ros=True)\n",
    "    else:\n",
    "        result, scores = run(X_ALL.copy(), clf, thr=.50, seed=SEEDS[i], ros=True)\n",
    "    for m in metric: total_result[m].append(result[m])\n",
    "    for j in range(len(result['test_fpr'])):\n",
    "        plt.plot(result['test_fpr'][j], result['test_tpr'][j], 'b', alpha=0.015)\n",
    "        tpr = np.interp(base_fpr, result['test_fpr'][j], result['test_tpr'][j])\n",
    "        tpr[0] = 0.0\n",
    "        tprs.append(tpr)\n",
    "    svm_scores.append(scores)\n",
    "    # break \n",
    "        \n",
    "for m in met: \n",
    "    print(m ,'|\\t',\n",
    "        #   np.mean(result[f'train_{m}']),\n",
    "          np.mean(result[f'test_{m}']))\n",
    "    experiment.log_metric(m, np.mean(result[f'test_{m}']))\n",
    "tprs = np.array(tprs)        \n",
    "mean_tprs = tprs.mean(axis=0)\n",
    "std = tprs.std(axis=0)\n",
    " \n",
    "tprs_upper = np.minimum(mean_tprs + std, 1)\n",
    "tprs_lower = mean_tprs - std\n",
    "experiment.log_curve('ROC_CURVE', base_fpr, mean_tprs)\n",
    "plt.plot(base_fpr, mean_tprs, 'b')\n",
    "plt.fill_between(base_fpr, tprs_lower, tprs_upper, color='grey', alpha=0.3)\n",
    "plt.xlim([-0.02, 1.02])\n",
    "plt.ylim([-0.02, 1.02])\n",
    "plt.plot([0, 1], [0, 1],'r--')\n",
    "plt.ylabel('True Positive Rate')\n",
    "plt.xlabel('False Positive Rate')\n",
    "plt.title('ROC curve')\n",
    "experiment.log_parameters({'seeds':SEEDS})\n",
    "experiment.log_figure('ROC curve', figure=plt)\n",
    "experiment.end()\n",
    "plt.show()\n",
    "# mean_tprs.tolist()"
   ]
  },
  {
   "cell_type": "code",
   "execution_count": null,
   "metadata": {},
   "outputs": [
    {
     "data": {
      "image/png": "[encoded data removed]",
      "text/plain": [
       "<Figure size 576x165.6 with 1 Axes>"
      ]
     },
     "metadata": {
      "needs_background": "light"
     },
     "output_type": "display_data"
    }
   ],
   "source": [
    "import shap\n",
    "shap.summary_plot(shap_values, shap_X_test, plot_type=\"bar\", class_inds=[1], feature_names=['Img logits', 'Clinical logits'])"
   ]
  },
  {
   "cell_type": "code",
   "execution_count": null,
   "metadata": {},
   "outputs": [],
   "source": [
    "# from functools import reduce\n",
    "# df_merged = reduce(lambda  left,right: pd.merge(left,right,on=['fname'], how='outer'), svm_scores)\n",
    "# fname = df_merged.pop('fname')\n",
    "\n",
    "# print(df_merged.shape)\n",
    "# avg_score = df_merged.agg(\"mean\", axis=1)\n",
    "# avg_score = pd.DataFrame(avg_score)\n",
    "# avg_score['Patient ID'] = fname.to_list()\n",
    "# avg_score.to_csv('./svm_socres.csv')\n",
    "\n",
    "# avg_score.pop('Patient ID')\n",
    "# avg_score.max(), avg_score.min()\n",
    "# mean_tprs.tolist()"
   ]
  },
  {
   "cell_type": "code",
   "execution_count": null,
   "metadata": {},
   "outputs": [
    {
     "data": {
      "text/plain": [
       "[array([0.80889493, 0.19110507]),\n",
       " array([0.04183308, 0.95816692]),\n",
       " array([0., 1.]),\n",
       " array([1.00000000e+00, 7.40876102e-16]),\n",
       " array([0.15671053, 0.84328947]),\n",
       " array([0.05200244, 0.94799756]),\n",
       " array([0., 1.]),\n",
       " array([1., 0.]),\n",
       " array([0.05477373, 0.94522627]),\n",
       " array([1.00000000e+00, 2.99157381e-16]),\n",
       " array([1., 0.])]"
      ]
     },
     "execution_count": 9,
     "metadata": {},
     "output_type": "execute_result"
    },
    {
     "data": {
      "image/png": "[encoded data removed]",
      "text/plain": [
       "<Figure size 432x288 with 1 Axes>"
      ]
     },
     "metadata": {
      "needs_background": "light"
     },
     "output_type": "display_data"
    }
   ],
   "source": [
    "# Feature importance \n",
    "\n",
    "import pandas as pd\n",
    "import numpy as np\n",
    "\n",
    "forest = clf\n",
    "importances = forest.feature_importances_\n",
    "std = np.std([tree.feature_importances_ for tree in forest.estimators_], axis=0)\n",
    "\n",
    "forest_importances = pd.Series(importances)\n",
    "\n",
    "fig, ax = plt.subplots()\n",
    "forest_importances.plot.bar(yerr=std, ax=ax)\n",
    "ax.set_title(\"Feature importances using MDI\")\n",
    "ax.set_ylabel(\"Mean decrease in impurity\")\n",
    "fig.tight_layout()\n",
    "[tree.feature_importances_ for tree in forest.estimators_]"
   ]
  },
  {
   "cell_type": "code",
   "execution_count": null,
   "metadata": {},
   "outputs": [],
   "source": [
    "\n"
   ]
  },
  {
   "cell_type": "code",
   "execution_count": null,
   "metadata": {},
   "outputs": [],
   "source": []
  }
 ],
 "metadata": {
  "interpreter": {
   "hash": "eeb9977edf8d0d04097f129c5c8b26f8724cf46ef57b2e050a86838b340d1b2e"
  },
  "kernelspec": {
   "display_name": "Python 3",
   "language": "python",
   "name": "python3"
  },
  "language_info": {
   "codemirror_mode": {
    "name": "ipython",
    "version": 3
   },
   "file_extension": ".py",
   "mimetype": "text/x-python",
   "name": "python",
   "nbconvert_exporter": "python",
   "pygments_lexer": "ipython3",
   "version": "3.7.11"
  }
 },
 "nbformat": 4,
 "nbformat_minor": 4
}
