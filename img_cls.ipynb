{
 "cells": [
  {
   "cell_type": "code",
   "execution_count": 1,
   "metadata": {},
   "outputs": [
    {
     "name": "stdout",
     "output_type": "stream",
     "text": [
      "(56, 336) (56,)\n"
     ]
    }
   ],
   "source": [
    "# from comet_ml import Experiment\n",
    "from comet_ml import OfflineExperiment\n",
    "import pandas as pd \n",
    "from cfg import *\n",
    "import cv2\n",
    "import numpy as np\n",
    "from loader import data_pipe\n",
    "from skimage.feature import texture\n",
    "import glob\n",
    "from personal_cls import run\n",
    "import lightgbm as lgb\n",
    "import random\n",
    "\n",
    "from sklearn.pipeline import Pipeline\n",
    "from sklearn.metrics import roc_curve, auc\n",
    "from sklearn import preprocessing\n",
    "from sklearn.feature_selection import VarianceThreshold\n",
    "from sklearn.feature_selection import chi2\n",
    "from sklearn.feature_selection import SelectPercentile, chi2\n",
    "from sklearn.svm import SVC, NuSVC\n",
    "from sklearn.linear_model import LogisticRegression\n",
    "from sklearn.ensemble import GradientBoostingClassifier\n",
    "from sklearn.ensemble import RandomForestClassifier\n",
    "from sklearn.neighbors import KNeighborsClassifier\n",
    "import matplotlib.pyplot as plt\n",
    "\n",
    "\n",
    "\n",
    "def glcm_features(f):\n",
    "    img = cv2.imread(f, 0)\n",
    "    g = texture.greycomatrix(img, [1, 2, 3, 4, 5, 6, 7], [0, np.pi/2], levels=256, normed=True, symmetric=True)\n",
    "    features = []\n",
    "    for p in ['contrast', 'dissimilarity', 'homogeneity', 'energy', 'correlation', 'ASM']:\n",
    "        f = texture.greycoprops(g, p)\n",
    "        features.append(f)\n",
    "    return np.array(features).flatten()\n",
    "\n",
    "\n",
    "labels = [0, 1]\n",
    "dtype = ['T1', 'T1c', 'T2', 'Flair']\n",
    "# dtype = ['Flair']\n",
    "\n",
    "rawX, y = [], []\n",
    "for label in labels:\n",
    "    pr_class = 'PR' if label else 'non_PR'\n",
    "    for f in glob.glob(f'{segmented_img_dir}/{pr_class}/T1c/*.jpg'):\n",
    "        mri_features = []\n",
    "        # for d in ['T1c']:\n",
    "        for d in dtype:\n",
    "            textual_feature = glcm_features(f.replace('T1c', d))\n",
    "            mri_features.append(textual_feature)\n",
    "            \n",
    "        rawX.append(np.array(mri_features).flatten())\n",
    "        y.append(label)\n",
    "\n",
    "\n",
    "X, y = np.array(rawX), np.array(y)\n",
    "print(X.shape, y.shape)\n"
   ]
  },
  {
   "cell_type": "code",
   "execution_count": 169,
   "metadata": {},
   "outputs": [
    {
     "name": "stderr",
     "output_type": "stream",
     "text": [
      "COMET WARNING: As you are running in a Jupyter environment, you will need to call `experiment.end()` when finished to ensure all metrics and code are logged before exiting.\n",
      "COMET INFO: Using '/home/rockyo/Chemei-PR/.cometml-runs' path as offline directory. Pass 'offline_directory' parameter into constructor or set the 'COMET_OFFLINE_DIRECTORY' environment variable to manually choose where to store offline experiment archives.\n"
     ]
    },
    {
     "name": "stdout",
     "output_type": "stream",
     "text": [
      "After VT transform | dim 112\n",
      "accuracy |\t 0.8575757575757577\n",
      "precision |\t 0.7666666666666666\n",
      "recall |\t 0.6333333333333333\n",
      "roc_auc |\t 0.7819444444444443\n"
     ]
    },
    {
     "name": "stderr",
     "output_type": "stream",
     "text": [
      "COMET INFO: Starting saving the offline archive\n",
      "COMET INFO: To upload this offline experiment, run:\n",
      "    comet upload /home/rockyo/Chemei-PR/.cometml-runs/b0cba1160a3e40ddad8c4a229e058a93.zip\n"
     ]
    },
    {
     "data": {
      "image/png": "[encoded data removed]",
      "text/plain": [
       "<Figure size 432x288 with 1 Axes>"
      ]
     },
     "metadata": {
      "needs_background": "light"
     },
     "output_type": "display_data"
    }
   ],
   "source": [
    "thr = .8\n",
    "X = VarianceThreshold(threshold=(thr * (1 - thr))).fit_transform(X)\n",
    "\n",
    "clf = NuSVC( max_iter=-1, nu=.09, kernel='rbf', degree=4, \n",
    "            probability=True,\n",
    "            class_weight='balanced', \n",
    "            )\n",
    "clf_name = clf.__class__.__name__\n",
    "\n",
    "print('After VT transform | dim', X.shape[1])\n",
    "clf = Pipeline([\n",
    "    # ('scaler', preprocessing.Normalizer()),\n",
    "    ('selector', SelectPercentile(chi2, percentile=65)), \n",
    "    ('svm', clf)\n",
    "])\n",
    "if __name__=='__main__':\n",
    "    \n",
    "    experiment = OfflineExperiment(\n",
    "        api_key=COMET_APT_KEY,\n",
    "        project_name=COMET_PROJECT_NAME,\n",
    "        workspace=COMET_WORK_SPACE,\n",
    "        display_summary_level=0,\n",
    "        # disabled=True,\n",
    "    )\n",
    "    experiment.add_tags(['Img', clf_name])\n",
    "    if len(dtype)>1 : experiment.add_tag('Mixed')\n",
    "    else: experiment.add_tag(dtype[0])\n",
    "\n",
    "    met =  ['accuracy', 'precision', 'recall', 'roc_auc']\n",
    "    metric = ['test_' + val for val in met]\n",
    "    base_fpr = np.linspace(0, 1, 101)\n",
    "    tprs = []\n",
    "    total_result = {}\n",
    "    for m in metric: total_result[m] = []\n",
    "    \n",
    "    # SEEDS = random.sample(range(1, 100), NUM_RANDOM_STATE)\n",
    "    for i in range(NUM_RANDOM_STATE):\n",
    "        result = run(\n",
    "            X, y, clf, thr=.60, seed=SEEDS[i],\n",
    "            prob=True,\n",
    "            ros=True\n",
    "        )\n",
    "        for m in metric: total_result[m].append(result[m])\n",
    "\n",
    "        for j in range(len(result['test_fpr'])):\n",
    "            plt.plot(result['test_fpr'][j], result['test_tpr'][j], 'b', alpha=0.015)\n",
    "            tpr = np.interp(base_fpr, result['test_fpr'][j], result['test_tpr'][j])\n",
    "            tpr[0] = 0.0\n",
    "            tprs.append(tpr)\n",
    "            \n",
    "    for m in met: \n",
    "        print(m ,'|\\t',\n",
    "            #   np.mean(result[f'train_{m}']),\n",
    "              np.mean(result[f'test_{m}']))\n",
    "        experiment.log_metric(m, np.mean(result[f'test_{m}']))\n",
    "\n",
    "    tprs = np.array(tprs)        \n",
    "    mean_tprs = tprs.mean(axis=0)\n",
    "    std = tprs.std(axis=0)\n",
    "     \n",
    "tprs_upper = np.minimum(mean_tprs + std, 1)\n",
    "tprs_lower = mean_tprs - std\n",
    "\n",
    "plt.plot(base_fpr, mean_tprs, 'b')\n",
    "plt.fill_between(base_fpr, tprs_lower, tprs_upper, color='grey', alpha=0.3)\n",
    "plt.xlim([-0.02, 1.02])\n",
    "plt.ylim([-0.02, 1.02])\n",
    "plt.plot([0, 1], [0, 1],'r--')\n",
    "plt.ylabel('True Positive Rate')\n",
    "plt.xlabel('False Positive Rate')\n",
    "plt.title('ROC curve')        \n",
    "experiment.log_parameters({'seeds':SEEDS})\n",
    "experiment.log_figure('ROC curve', figure=plt)\n",
    "experiment.end()\n",
    "plt.show()"
   ]
  }
 ],
 "metadata": {
  "interpreter": {
   "hash": "eeb9977edf8d0d04097f129c5c8b26f8724cf46ef57b2e050a86838b340d1b2e"
  },
  "kernelspec": {
   "display_name": "Python 3.7.11 64-bit ('brain-pr': conda)",
   "language": "python",
   "name": "python3"
  },
  "language_info": {
   "codemirror_mode": {
    "name": "ipython",
    "version": 3
   },
   "file_extension": ".py",
   "mimetype": "text/x-python",
   "name": "python",
   "nbconvert_exporter": "python",
   "pygments_lexer": "ipython3",
   "version": "3.7.11"
  },
  "orig_nbformat": 4
 },
 "nbformat": 4,
 "nbformat_minor": 2
}
