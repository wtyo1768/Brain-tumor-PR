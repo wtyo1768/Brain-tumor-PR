{
 "cells": [
  {
   "cell_type": "code",
   "execution_count": 1,
   "metadata": {},
   "outputs": [],
   "source": [
    "# from comet_ml import Experiment\n",
    "from comet_ml import OfflineExperiment\n",
    "import pandas as pd \n",
    "from cfg import *\n",
    "import numpy as np\n",
    "from loader import data_pipe\n",
    "from skimage.feature import texture\n",
    "from train import run\n",
    "import lightgbm as lgb\n",
    "import random\n",
    "from sklearn.pipeline import Pipeline\n",
    "from sklearn.metrics import roc_curve, auc\n",
    "from sklearn import preprocessing\n",
    "from sklearn.feature_selection import chi2\n",
    "from sklearn.feature_selection import SelectPercentile, chi2\n",
    "from sklearn.svm import NuSVC\n",
    "import matplotlib.pyplot as plt\n",
    "from loader import *"
   ]
  },
  {
   "cell_type": "code",
   "execution_count": 2,
   "metadata": {},
   "outputs": [],
   "source": [
    "dtype = ['T1', 'T1c', 'T2', 'Flair']\n",
    "X, y = img_features(dtype, mode='concat')"
   ]
  },
  {
   "cell_type": "code",
   "execution_count": 3,
   "metadata": {
    "collapsed": true,
    "jupyter": {
     "outputs_hidden": true
    },
    "tags": []
   },
   "outputs": [
    {
     "name": "stderr",
     "output_type": "stream",
     "text": [
      "COMET WARNING: As you are running in a Jupyter environment, you will need to call `experiment.end()` when finished to ensure all metrics and code are logged before exiting.\n"
     ]
    },
    {
     "name": "stdout",
     "output_type": "stream",
     "text": [
      "(56, 112) (56,)\n",
      "accuracy |\t 0.8575757575757577\n",
      "precision |\t 0.82\n",
      "recall |\t 0.5666666666666667\n",
      "roc_auc |\t 0.75\n"
     ]
    },
    {
     "data": {
      "image/png": "[encoded data removed]",
      "text/plain": [
       "<Figure size 432x288 with 1 Axes>"
      ]
     },
     "metadata": {
      "needs_background": "light"
     },
     "output_type": "display_data"
    }
   ],
   "source": [
    "\n",
    "clf = NuSVC( max_iter=-1, nu=.05, kernel='rbf', degree=5, \n",
    "            # probability=True,\n",
    "            class_weight='balanced', \n",
    "            # verbose=1\n",
    ")\n",
    "clf_name = clf.__class__.__name__\n",
    "clf = Pipeline([\n",
    "    # ('scaler', preprocessing.MinMaxScaler()),\n",
    "    ('selector', SelectPercentile(chi2, percentile=80)), \n",
    "    ('svm', clf)],)\n",
    "if __name__=='__main__':\n",
    "    \n",
    "    print(X.shape, y.shape)\n",
    "\n",
    "    experiment = OfflineExperiment(\n",
    "        api_key=COMET_APT_KEY,\n",
    "        project_name=COMET_PROJECT_NAME,\n",
    "        workspace=COMET_WORK_SPACE,\n",
    "        display_summary_level=0,\n",
    "        disabled=True,\n",
    "    )\n",
    "    experiment.add_tags(['Img', clf_name])\n",
    "    if len(dtype)>1 : experiment.add_tag('Mixed')\n",
    "    else: experiment.add_tag(dtype[0])\n",
    "\n",
    "    met =  ['accuracy', 'precision', 'recall', 'roc_auc']\n",
    "    metric = ['test_' + val for val in met]\n",
    "    base_fpr = np.linspace(0, 1, 101)\n",
    "    tprs = []\n",
    "    total_result = {}\n",
    "    for m in metric: total_result[m] = []\n",
    "    \n",
    "    for i in range(NUM_RANDOM_STATE):\n",
    "        result = run(\n",
    "            X, y, clf, thr=.6, seed=SEEDS[i],\n",
    "            # prob=True,\n",
    "            # ros=True\n",
    "        )\n",
    "        for m in metric: total_result[m].append(result[m])\n",
    "\n",
    "        for j in range(len(result['test_fpr'])):\n",
    "            plt.plot(result['test_fpr'][j], result['test_tpr'][j], 'b', alpha=0.015)\n",
    "            tpr = np.interp(base_fpr, result['test_fpr'][j], result['test_tpr'][j])\n",
    "            tpr[0] = 0.0\n",
    "            tprs.append(tpr)\n",
    "            \n",
    "    for m in met: \n",
    "        print(m ,'|\\t',\n",
    "            #   np.mean(result[f'train_{m}']),\n",
    "              np.mean(result[f'test_{m}']))\n",
    "        experiment.log_metric(m, np.mean(result[f'test_{m}']))\n",
    "\n",
    "    tprs = np.array(tprs)        \n",
    "    mean_tprs = tprs.mean(axis=0)\n",
    "    std = tprs.std(axis=0)\n",
    "     \n",
    "    tprs_upper = np.minimum(mean_tprs + std, 1)\n",
    "    tprs_lower = mean_tprs - std\n",
    "\n",
    "    experiment.log_curve('ROC_CURVE', base_fpr, mean_tprs)\n",
    "    plt.plot(base_fpr, mean_tprs, 'b')\n",
    "    plt.fill_between(base_fpr, tprs_lower, tprs_upper, color='grey', alpha=0.3)\n",
    "    plt.xlim([-0.02, 1.02])\n",
    "    plt.ylim([-0.02, 1.02])\n",
    "    plt.plot([0, 1], [0, 1],'r--')\n",
    "    plt.ylabel('True Positive Rate')\n",
    "    plt.xlabel('False Positive Rate')\n",
    "    plt.title('ROC curve')        \n",
    "    experiment.log_parameters({'seeds':SEEDS})\n",
    "    experiment.log_figure('ROC curve', figure=plt)\n",
    "    experiment.end()\n",
    "    plt.show()\n",
    "\n",
    "    # mean_tprs.tolist()"
   ]
  }
 ],
 "metadata": {
  "interpreter": {
   "hash": "eeb9977edf8d0d04097f129c5c8b26f8724cf46ef57b2e050a86838b340d1b2e"
  },
  "kernelspec": {
   "display_name": "Python 3",
   "language": "python",
   "name": "python3"
  },
  "language_info": {
   "codemirror_mode": {
    "name": "ipython",
    "version": 3
   },
   "file_extension": ".py",
   "mimetype": "text/x-python",
   "name": "python",
   "nbconvert_exporter": "python",
   "pygments_lexer": "ipython3",
   "version": "3.7.11"
  }
 },
 "nbformat": 4,
 "nbformat_minor": 4
}
